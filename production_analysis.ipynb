{
 "cells": [
  {
   "cell_type": "code",
   "execution_count": 1,
   "id": "2ab5d734",
   "metadata": {},
   "outputs": [],
   "source": [
    "import pandas as pd\n",
    "import openpyxl as exc\n",
    "from openpyxl import workbook as wb\n",
    "from openpyxl import load_workbook\n",
    "import xlrd\n",
    "import pyexcel as p\n",
    "import os\n",
    "from io import StringIO\n",
    "import glob"
   ]
  },
  {
   "cell_type": "code",
   "execution_count": 14,
   "id": "a01107f7",
   "metadata": {},
   "outputs": [],
   "source": [
    "crew_dict = {\"Scarify\":[\"Scarify\"], \"Strip Site\":[\"Strip Site\"], \n",
    "             \"Soil Correction\":[\"Soil Correction\", \"OX\",\"OE\", \"Over Ex\", \"Excavate & Re-compact\", \"Over-Ex\", \"Excavate & Recompact\"],\n",
    "             \"Ex Retainining Wall\":[\"Excavate Site Retaining\", \"Excavate MSE\", \"Exc Retaining\", \"Exc Site Retn Walls\"],\n",
    "             \"Export\":[\"Export\", \"Exp\"], \"Import\":[\"Import\", \"Imp\"],\n",
    "             \"Ex Frost footing\": [\"Exc Fro\", \"Excavate Fro\", \"Footing Excavation\"], \n",
    "             \"Ex Trash Enc\":[\"Excavate Trash\", \"Exc Trash\"],\n",
    "             \"Cut to Fill\":[\"Cut To Fill\", \"Utility Spoils - Site Fill\", \"Building Pad Fill w/ Spoils\"],\n",
    "             \"Cut to Stockpile\":[\"Cut to Stockpile\", \"Load & Stockpile\"],\n",
    "             \"Handle spoils\":[\"Handle Utility Spoils\", \"Handle Foundation Spoils\", \"Handle Spoils\", \"Handle & Stockpile\"],\n",
    "             \"Double Handle\":[\"Double Handle\"], \"Cut in C&G\":[\"Cut In C\", \"Cut-in C\", \"Grade C&G\"],\n",
    "             \"Ex Elevator\":[\"Excavate Elevator\"],\n",
    "             \"Grade Landscape\":[\"grade Landscape\", \"grade Green\", \"Landscape\"],\n",
    "             \"Grade Parkinglots and Roads\":[\"Grade Boulevards\",\"Grade Asphalt\", \"Grade Parking\", \"Grade Pkg\", \"Grade Main Roads\"],\n",
    "             \"Grade SW\":[\"Grade Sidewalks\", \"Grade Walks\", \"Exterior Slabs\", \"grade Brick Pavers\", \"Grade SW\"],\n",
    "             \"Export\":[\"Export\"],\n",
    "             \"Grade BLDG\": [\"Grade Bldg\", \"Grade Building\", \"Grade Structural\"],\n",
    "             \"Drain Tile\":[\"Drain\"],\n",
    "             \"Backfill Int\":[\"Backfill Int\", \"Footing Backfill\"],\n",
    "             \"Backfill Ext\":[\"Backfill Ext\"],\n",
    "             \"Backfill Elevator\":[\"Backfill Elevator\"],\n",
    "             \"Backfill Trash\":[\"Backfill Trash\"], \"Backfill Frost\": [\"Backfill Frost\"],\n",
    "             \"High Backfill\": [\"High Backfill\"], \"Grade Class X\":[\"Grade Class\"],\n",
    "             \"Excavate Interior\":[\"Excavate Int\", \"Excavate Thickened\", \"Excavate Grade Beams\", \"Exc Int\"],\n",
    "             \"Excavate Exterior\":[\"Excavate Ext\", \"Exc Ext\"], \"Grade Pond\":[\"Basin Grading\",\"Grade Pond\" , \"Grade Detention Pond\"],\n",
    "             \"Assist shoring\":[\"Assist Shoring\"],\n",
    "             \"Stairs\":[\"Stairs\"], \"Place Strippings\":[\"Place Stripping\"],\n",
    "             \"Street Sweep\":[\"Street Sweeping\"]}"
   ]
  },
  {
   "cell_type": "code",
   "execution_count": 10,
   "id": "7a4b4771",
   "metadata": {},
   "outputs": [],
   "source": [
    "def job_date(df):\n",
    "    job = str(df.columns[0]).split(' ', 1)[1]\n",
    "    edit_date = pd.to_datetime(str(df.iloc[0,0]).split(' ')[0], errors='coerce')\n",
    "#     attendance = str(df.iloc[0,0]).split(' ',1)[1]\n",
    "    return job, edit_date\n",
    "\n",
    "def job_code(completed_path):\n",
    "    files = []\n",
    "    for item in os.listdir(completed_path):\n",
    "        job_code = item.split(' ')[1]\n",
    "        files.append(job_code)\n",
    "    files= pd.unique(files).tolist()\n",
    "    return files\n",
    "    \n",
    "    \n",
    "def lat_old(files):\n",
    "    lat_file_list = []\n",
    "#     old_file_list = []\n",
    "    for file in files:\n",
    "        job_files = [os.path.join(completed_path, x) for x in os.listdir(completed_path) if file in x]\n",
    "        latest_file = max(job_files, key=os.path.getctime)\n",
    "        # hold off on oldest files\n",
    "#         oldest_file = min(job_files, key=os.path.getctime)\n",
    "#         old_file_list.append((oldest_file))\n",
    "        lat_file_list.append((latest_file))\n",
    "#     old_file_list = pd.unique(old_file_list) \n",
    "    lat_file_list = pd.unique(lat_file_list) \n",
    "#, old_file_list\n",
    "    return lat_file_list\n",
    "\n",
    "def files_to_dfs(file_list):\n",
    "    df_list = []\n",
    "#     for item in file_list:\n",
    "    for file in file_list:\n",
    "        num_sheet = len(pd.ExcelFile(file).sheet_names)\n",
    "        for sheet in range(0,num_sheet):\n",
    "            xl = pd.read_excel(file ,sheet_name=sheet)\n",
    "            df = pd.DataFrame(xl)\n",
    "            job, date = job_date(df)\n",
    "            df.columns = df.iloc[2]\n",
    "            df = df.drop(df.index[:3])\n",
    "            df = df.iloc[:, :27]\n",
    "            df['updated'] = date\n",
    "            df['job'] = job\n",
    "            df['HJ Qty Comp'] = df['HJ Qty Comp'].fillna(0)\n",
    "            df = df.dropna(subset=['Qty'])\n",
    "            df = df.reset_index(drop=True)\n",
    "            df_list.append(df)\n",
    "    full_df = pd.concat(df_list).drop_duplicates().reset_index(drop=True)\n",
    "    return full_df"
   ]
  },
  {
   "cell_type": "code",
   "execution_count": 7,
   "id": "3fbafa9a",
   "metadata": {},
   "outputs": [],
   "source": [
    "completed_path = r\"C:\\Users\\willd\\OneDrive\\Desktop\\Belair\\projection_analysis\\completed proj projections\"\n",
    "c_recents = r\"C:\\Users\\willd\\OneDrive\\Desktop\\Belair\\projection_analysis\\c_recent\\compiled_data.xlsx\"\n",
    "on_going_path = ''"
   ]
  },
  {
   "cell_type": "code",
   "execution_count": 16,
   "id": "59d8fdfb",
   "metadata": {},
   "outputs": [],
   "source": [
    "job_codes = job_code(completed_path)\n",
    "newest = lat_old(job_codes)\n",
    "# newest\n",
    "full_df = files_to_dfs(newest)\n",
    "# oldest_df = files_to_dfs(oldest)"
   ]
  },
  {
   "cell_type": "code",
   "execution_count": 20,
   "id": "ba0af950",
   "metadata": {},
   "outputs": [
    {
     "name": "stderr",
     "output_type": "stream",
     "text": [
      "C:\\Users\\willd\\AppData\\Local\\Temp\\ipykernel_3388\\1365594709.py:10: SettingWithCopyWarning: \n",
      "A value is trying to be set on a copy of a slice from a DataFrame.\n",
      "Try using .loc[row_indexer,col_indexer] = value instead\n",
      "\n",
      "See the caveats in the documentation: https://pandas.pydata.org/pandas-docs/stable/user_guide/indexing.html#returning-a-view-versus-a-copy\n",
      "  no_dup['Qty'] = no_dup['Qty'].astype(float)\n",
      "C:\\Users\\willd\\AppData\\Local\\Temp\\ipykernel_3388\\1365594709.py:11: SettingWithCopyWarning: \n",
      "A value is trying to be set on a copy of a slice from a DataFrame.\n",
      "Try using .loc[row_indexer,col_indexer] = value instead\n",
      "\n",
      "See the caveats in the documentation: https://pandas.pydata.org/pandas-docs/stable/user_guide/indexing.html#returning-a-view-versus-a-copy\n",
      "  no_dup['Actual Cost$'] = no_dup['Actual Cost$'].astype(float)\n",
      "C:\\Users\\willd\\AppData\\Local\\Temp\\ipykernel_3388\\1365594709.py:12: SettingWithCopyWarning: \n",
      "A value is trying to be set on a copy of a slice from a DataFrame.\n",
      "Try using .loc[row_indexer,col_indexer] = value instead\n",
      "\n",
      "See the caveats in the documentation: https://pandas.pydata.org/pandas-docs/stable/user_guide/indexing.html#returning-a-view-versus-a-copy\n",
      "  no_dup['Total Budget'] = no_dup['Total Budget'].astype(float)\n",
      "C:\\Users\\willd\\AppData\\Local\\Temp\\ipykernel_3388\\1365594709.py:19: SettingWithCopyWarning: \n",
      "A value is trying to be set on a copy of a slice from a DataFrame.\n",
      "Try using .loc[row_indexer,col_indexer] = value instead\n",
      "\n",
      "See the caveats in the documentation: https://pandas.pydata.org/pandas-docs/stable/user_guide/indexing.html#returning-a-view-versus-a-copy\n",
      "  earth_work['crew'] = 'misc.'\n"
     ]
    }
   ],
   "source": [
    "full_df['Ph Int'] = full_df['Phase Code'].astype(str).str[0]\n",
    "full_df = full_df[~full_df['updated'].isnull()]\n",
    "full_df['year'] = pd.DatetimeIndex(full_df['updated']).year\n",
    "full_df['month'] = pd.DatetimeIndex(full_df['updated']).month\n",
    "# full_df['Est unit $'] = full_df['Total Budget'] / full_df['Qty']\n",
    "# full_df['Act unit $'] = full_df['Actual Cost$'] / full_df['HJ Qty Comp']\n",
    "full_df = full_df.sort_values(by='updated', ascending=False)\n",
    "\n",
    "no_dup = full_df.drop_duplicates(subset=['Phase Code','Description','job'], keep='last')\n",
    "no_dup['Qty'] = no_dup['Qty'].astype(float)\n",
    "no_dup['Actual Cost$'] = no_dup['Actual Cost$'].astype(float)\n",
    "no_dup['Total Budget'] = no_dup['Total Budget'].astype(float)\n",
    "\n",
    "most_recent = no_dup.sort_values(by=['job', 'Phase Code'])\n",
    "most_recent = most_recent[~most_recent[['Qty','HJ Qty Comp']].eq(0).sum(1).ge(2)]\n",
    "\n",
    "earth_work = most_recent[most_recent['Ph Int'] == '3']\n",
    "\n",
    "earth_work['crew'] = 'misc.'\n",
    "\n",
    "for key, values in crew_dict.items():\n",
    "    earth_work.loc[earth_work['Description'].str.lower().str.contains('|'.join([x.lower() for x in values])), \"crew\"] = key\n",
    "\n",
    "reduced = earth_work.loc[:, earth_work.columns.notna()]\n",
    "reduced = reduced.drop(['% Comp', 'Notes','Lab','Eq', 'Reclass'], axis=1)"
   ]
  },
  {
   "cell_type": "code",
   "execution_count": 31,
   "id": "56e96d05",
   "metadata": {},
   "outputs": [],
   "source": [
    "test = reduced\n",
    "test.loc[test['Total Budget'] > 0, 'Est UC'] = round(test['Total Budget'] / test['Qty'], 2)\n",
    "test.loc[test['Actual Cost$'] > 0, 'Act. UC'] = round(test['Actual Cost$'] / test['HJ Qty Comp'], 2)"
   ]
  },
  {
   "cell_type": "code",
   "execution_count": 34,
   "id": "d0018359",
   "metadata": {},
   "outputs": [],
   "source": [
    "# test"
   ]
  },
  {
   "cell_type": "code",
   "execution_count": null,
   "id": "ae597dd4",
   "metadata": {},
   "outputs": [],
   "source": []
  },
  {
   "cell_type": "code",
   "execution_count": 33,
   "id": "fd300f31",
   "metadata": {},
   "outputs": [],
   "source": [
    "writer = pd.ExcelWriter(c_recents, engine=\"xlsxwriter\")\n",
    "most_recent.to_excel(writer, sheet_name=\"mk1\")\n",
    "test.to_excel(writer, sheet_name=\"agg data\")\n",
    "# money_in.to_excel(writer, sheet_name=\"income\")\n",
    "# money_out.to_excel(writer, sheet_name=\"expense\")\n",
    "writer.close()"
   ]
  },
  {
   "cell_type": "code",
   "execution_count": null,
   "id": "acc4a820",
   "metadata": {},
   "outputs": [],
   "source": []
  },
  {
   "cell_type": "code",
   "execution_count": null,
   "id": "ece744e3",
   "metadata": {},
   "outputs": [],
   "source": []
  },
  {
   "cell_type": "code",
   "execution_count": 8,
   "id": "f1a0ba9c",
   "metadata": {},
   "outputs": [],
   "source": [
    "# lat_test = latest_df\n",
    "# old_test = oldest_df"
   ]
  },
  {
   "cell_type": "code",
   "execution_count": 31,
   "id": "5d53a5f6",
   "metadata": {},
   "outputs": [],
   "source": [
    "# rename columns for oldest/newest\n",
    "\n",
    "# def old_new_col(df, chron):\n",
    "#     df = df.rename(columns={\"Qty\": (chron + \" Qty\"), \"Total Budget\": (chron + \" Total Budget\")})\n",
    "#     return df \n",
    "    "
   ]
  },
  {
   "cell_type": "code",
   "execution_count": 53,
   "id": "da2dc3bc",
   "metadata": {},
   "outputs": [],
   "source": [
    "# lat = old_new_col(lat_test, \"Latest\")\n",
    "# old = old_new_col(old_test, \"Oldest\")\n",
    "# old = old[['Phase Code', 'Description', 'Oldest Qty', 'Oldest Total Budget', 'job']]"
   ]
  },
  {
   "cell_type": "code",
   "execution_count": 54,
   "id": "a20fa572",
   "metadata": {},
   "outputs": [],
   "source": [
    "# full_df = lat.join(old.set_index('Phase Code'), on=['Phase Code', 'Description'], validate='m:1')\n",
    "# full_df = pd.merge(lat,old, how='left', on=['Phase Code', 'Description'])\n",
    "# full_df = pd.merge(lat,old, how='left', \n",
    "#                   left_on=['Phase Code', 'Description', 'job'],\n",
    "#                   right_on=['Phase Code', 'Description', 'job'])"
   ]
  },
  {
   "cell_type": "code",
   "execution_count": 44,
   "id": "0ccc4514",
   "metadata": {},
   "outputs": [],
   "source": []
  },
  {
   "cell_type": "code",
   "execution_count": 4,
   "id": "a414ee05",
   "metadata": {},
   "outputs": [],
   "source": [
    "# files = []\n",
    "# for item in os.listdir(completed_path):\n",
    "#     job_code = item.split(' ')[1]\n",
    "#     files.append(job_code)\n",
    "# files= pd.unique(files)\n",
    "    \n",
    "#     full_path = os.path.join(completed_path, item)"
   ]
  },
  {
   "cell_type": "code",
   "execution_count": 5,
   "id": "2234985a",
   "metadata": {},
   "outputs": [],
   "source": [
    "# latest_file_list = []\n",
    "# for file in files:\n",
    "#     job_files = [os.path.join(completed_path, x) for x in os.listdir(completed_path) if file in x]\n",
    "#     latest_file = max(job_files, key=os.path.getctime)\n",
    "#     latest_file_list.append(latest_file)\n",
    "# latest_file_list = pd.unique(latest_file_list)   "
   ]
  },
  {
   "cell_type": "code",
   "execution_count": 6,
   "id": "2829b79f",
   "metadata": {},
   "outputs": [],
   "source": [
    "# df_list = []\n",
    "# for item in latest_file_list:\n",
    "#     num_sheet = len(pd.ExcelFile(item).sheet_names)\n",
    "#     for sheet in range(0,num_sheet):\n",
    "#         xl = pd.read_excel(item ,sheet_name=sheet)\n",
    "#         df = pd.DataFrame(xl)\n",
    "#         job, date = job_date(df)\n",
    "#         df.columns = df.iloc[2]\n",
    "#         df = df.drop(df.index[:3])\n",
    "#         df = df.iloc[:, :27]\n",
    "#         df['updated'] = date\n",
    "#         df['job'] = job\n",
    "#         df['HJ Qty Comp'] = df['HJ Qty Comp'].fillna(0)\n",
    "#         df = df.dropna(subset=['Qty'])\n",
    "#         df = df.reset_index(drop=True)\n",
    "#         df_list.append(df)"
   ]
  },
  {
   "cell_type": "code",
   "execution_count": 56,
   "id": "cada2f42",
   "metadata": {},
   "outputs": [
    {
     "name": "stderr",
     "output_type": "stream",
     "text": [
      "C:\\Users\\willd\\AppData\\Local\\Temp\\ipykernel_6548\\2810187377.py:4: SettingWithCopyWarning: \n",
      "A value is trying to be set on a copy of a slice from a DataFrame.\n",
      "Try using .loc[row_indexer,col_indexer] = value instead\n",
      "\n",
      "See the caveats in the documentation: https://pandas.pydata.org/pandas-docs/stable/user_guide/indexing.html#returning-a-view-versus-a-copy\n",
      "  full_df['year'] = pd.DatetimeIndex(full_df['updated']).year\n",
      "C:\\Users\\willd\\AppData\\Local\\Temp\\ipykernel_6548\\2810187377.py:5: SettingWithCopyWarning: \n",
      "A value is trying to be set on a copy of a slice from a DataFrame.\n",
      "Try using .loc[row_indexer,col_indexer] = value instead\n",
      "\n",
      "See the caveats in the documentation: https://pandas.pydata.org/pandas-docs/stable/user_guide/indexing.html#returning-a-view-versus-a-copy\n",
      "  full_df['month'] = pd.DatetimeIndex(full_df['updated']).month\n"
     ]
    }
   ],
   "source": [
    "# full_df = pd.concat(df_list).drop_duplicates().reset_index(drop=True)\n",
    "full_df['Ph Int'] = full_df['Phase Code'].astype(str).str[0]\n",
    "full_df = full_df[~full_df['updated'].isnull()]\n",
    "full_df['year'] = pd.DatetimeIndex(full_df['updated']).year\n",
    "full_df['month'] = pd.DatetimeIndex(full_df['updated']).month\n",
    "# full_df['Est unit $'] = full_df['Total Budget'] / full_df['Qty']\n",
    "# full_df['Act unit $'] = full_df['Actual Cost$'] / full_df['HJ Qty Comp']\n",
    "full_df = full_df.sort_values(by='updated', ascending=False)"
   ]
  },
  {
   "cell_type": "code",
   "execution_count": 57,
   "id": "84f0ab95",
   "metadata": {},
   "outputs": [
    {
     "name": "stderr",
     "output_type": "stream",
     "text": [
      "C:\\Users\\willd\\AppData\\Local\\Temp\\ipykernel_6548\\3602641939.py:13: SettingWithCopyWarning: \n",
      "A value is trying to be set on a copy of a slice from a DataFrame.\n",
      "Try using .loc[row_indexer,col_indexer] = value instead\n",
      "\n",
      "See the caveats in the documentation: https://pandas.pydata.org/pandas-docs/stable/user_guide/indexing.html#returning-a-view-versus-a-copy\n",
      "  no_dup['Latest Qty'] = no_dup['Latest Qty'].astype(float)\n",
      "C:\\Users\\willd\\AppData\\Local\\Temp\\ipykernel_6548\\3602641939.py:14: SettingWithCopyWarning: \n",
      "A value is trying to be set on a copy of a slice from a DataFrame.\n",
      "Try using .loc[row_indexer,col_indexer] = value instead\n",
      "\n",
      "See the caveats in the documentation: https://pandas.pydata.org/pandas-docs/stable/user_guide/indexing.html#returning-a-view-versus-a-copy\n",
      "  no_dup['Actual Cost$'] = no_dup['Actual Cost$'].astype(float)\n",
      "C:\\Users\\willd\\AppData\\Local\\Temp\\ipykernel_6548\\3602641939.py:15: SettingWithCopyWarning: \n",
      "A value is trying to be set on a copy of a slice from a DataFrame.\n",
      "Try using .loc[row_indexer,col_indexer] = value instead\n",
      "\n",
      "See the caveats in the documentation: https://pandas.pydata.org/pandas-docs/stable/user_guide/indexing.html#returning-a-view-versus-a-copy\n",
      "  no_dup['Latest Total Budget'] = no_dup['Latest Total Budget'].astype(float)\n"
     ]
    }
   ],
   "source": [
    "# full_df = full_df[~full_df['updated'].isnull()]\n",
    "# first = full_df.drop_duplicates(subset=['Phase Code','Description','job'], keep='first')\n",
    "# last = full_df.drop_duplicates(subset=['Phase Code','Description','job'], keep='last')\n",
    "\n",
    "######\n",
    "\n",
    "#####\n",
    "\n",
    "\n",
    "\n",
    "#######\n",
    "no_dup = full_df.drop_duplicates(subset=['Phase Code','Description','job'], keep='last')\n",
    "no_dup['Latest Qty'] = no_dup['Latest Qty'].astype(float)\n",
    "no_dup['Actual Cost$'] = no_dup['Actual Cost$'].astype(float)\n",
    "no_dup['Latest Total Budget'] = no_dup['Latest Total Budget'].astype(float)"
   ]
  },
  {
   "cell_type": "code",
   "execution_count": 59,
   "id": "8ece2527",
   "metadata": {},
   "outputs": [],
   "source": [
    "most_recent = no_dup.sort_values(by=['job', 'Phase Code'])\n",
    "most_recent = most_recent[~most_recent[['Latest Qty','HJ Qty Comp']].eq(0).sum(1).ge(2)]\n",
    "# df.drop_duplicates(subset=['IDName'], keep='last')\n"
   ]
  },
  {
   "cell_type": "code",
   "execution_count": 60,
   "id": "b86ba240",
   "metadata": {},
   "outputs": [],
   "source": [
    "# subset of just earthwork\n",
    "earth_work = most_recent[most_recent['Ph Int'] == '3']"
   ]
  },
  {
   "cell_type": "code",
   "execution_count": 61,
   "id": "41ea82f0",
   "metadata": {},
   "outputs": [],
   "source": [
    "crew_dict = {\"Scarify\":[\"Scarify\"], \"Strip Site\":[\"Strip Site\"], \n",
    "             \"Soil Correction\":[\"Soil Correction\", \"OX\",\"OE\", \"Over Ex\", \"Excavate & Re-compact\", \"Over-Ex\", \"Excavate & Recompact\"],\n",
    "             \"Ex Retainining Wall\":[\"Excavate Site Retaining\", \"Excavate MSE\", \"Exc Retaining\", \"Exc Site Retn Walls\"],\n",
    "             \"Export\":[\"Export\", \"Exp\"], \"Import\":[\"Import\", \"Imp\"],\n",
    "             \"Ex Frost footing\": [\"Exc Fro\", \"Excavate Fro\", \"Footing Excavation\"], \n",
    "             \"Ex Trash Enc\":[\"Excavate Trash\", \"Exc Trash\"],\n",
    "             \"Cut to Fill\":[\"Cut To Fill\", \"Utility Spoils - Site Fill\", \"Building Pad Fill w/ Spoils\"],\n",
    "             \"Cut to Stockpile\":[\"Cut to Stockpile\", \"Load & Stockpile\"],\n",
    "             \"Handle spoils\":[\"Handle Utility Spoils\", \"Handle Foundation Spoils\", \"Handle Spoils\", \"Handle & Stockpile\"],\n",
    "             \"Double Handle\":[\"Double Handle\"], \"Cut in C&G\":[\"Cut In C\", \"Cut-in C\", \"Grade C&G\"],\n",
    "             \"Ex Elevator\":[\"Excavate Elevator\"],\n",
    "             \"Grade Landscape\":[\"grade Landscape\", \"grade Green\", \"Landscape\"],\n",
    "             \"Grade Parkinglots and Roads\":[\"Grade Boulevards\",\"Grade Asphalt\", \"Grade Parking\", \"Grade Pkg\", \"Grade Main Roads\"],\n",
    "             \"Grade SW\":[\"Grade Sidewalks\", \"Grade Walks\", \"Exterior Slabs\", \"grade Brick Pavers\", \"Grade SW\"],\n",
    "             \"Export\":[\"Export\"],\n",
    "             \"Grade BLDG\": [\"Grade Bldg\", \"Grade Building\", \"Grade Structural\"],\n",
    "             \"Drain Tile\":[\"Drain\"],\n",
    "             \"Backfill Int\":[\"Backfill Int\", \"Footing Backfill\"],\n",
    "             \"Backfill Ext\":[\"Backfill Ext\"],\n",
    "             \"Backfill Elevator\":[\"Backfill Elevator\"],\n",
    "             \"Backfill Trash\":[\"Backfill Trash\"], \"Backfill Frost\": [\"Backfill Frost\"],\n",
    "             \"High Backfill\": [\"High Backfill\"], \"Grade Class X\":[\"Grade Class\"],\n",
    "             \"Excavate Interior\":[\"Excavate Int\", \"Excavate Thickened\", \"Excavate Grade Beams\", \"Exc Int\"],\n",
    "             \"Excavate Exterior\":[\"Excavate Ext\", \"Exc Ext\"], \"Grade Pond\":[\"Basin Grading\",\"Grade Pond\" , \"Grade Detention Pond\"],\n",
    "             \"Assist shoring\":[\"Assist Shoring\"],\n",
    "             \"Stairs\":[\"Stairs\"], \"Place Strippings\":[\"Place Stripping\"],\n",
    "             \"Street Sweep\":[\"Street Sweeping\"]}"
   ]
  },
  {
   "cell_type": "code",
   "execution_count": 62,
   "id": "fdfe0460",
   "metadata": {},
   "outputs": [
    {
     "name": "stderr",
     "output_type": "stream",
     "text": [
      "C:\\Users\\willd\\AppData\\Local\\Temp\\ipykernel_6548\\2156627274.py:2: SettingWithCopyWarning: \n",
      "A value is trying to be set on a copy of a slice from a DataFrame.\n",
      "Try using .loc[row_indexer,col_indexer] = value instead\n",
      "\n",
      "See the caveats in the documentation: https://pandas.pydata.org/pandas-docs/stable/user_guide/indexing.html#returning-a-view-versus-a-copy\n",
      "  test['crew'] = 'misc.'\n"
     ]
    }
   ],
   "source": [
    "test = earth_work\n",
    "test['crew'] = 'misc.'"
   ]
  },
  {
   "cell_type": "code",
   "execution_count": 63,
   "id": "946e584d",
   "metadata": {},
   "outputs": [],
   "source": [
    "for key, values in crew_dict.items():\n",
    "    test.loc[test['Description'].str.lower().str.contains('|'.join([x.lower() for x in values])), \"crew\"] = key"
   ]
  },
  {
   "cell_type": "code",
   "execution_count": 64,
   "id": "c518b951",
   "metadata": {},
   "outputs": [],
   "source": [
    "reduced = test.loc[:, test.columns.notna()]\n",
    "reduced = reduced.drop(['Notes','Lab','Eq', 'Reclass'], axis=1)"
   ]
  },
  {
   "cell_type": "code",
   "execution_count": 60,
   "id": "9631136e",
   "metadata": {},
   "outputs": [],
   "source": [
    "# v = most_recent.Description.value_counts()\n",
    "# agg_df = most_recent[most_recent.Description.isin(v.index[v.gt(3)])]"
   ]
  },
  {
   "cell_type": "code",
   "execution_count": 65,
   "id": "1e55df74",
   "metadata": {},
   "outputs": [],
   "source": [
    "writer = pd.ExcelWriter(c_recents, engine=\"xlsxwriter\")\n",
    "most_recent.to_excel(writer, sheet_name=\"mk1\")\n",
    "reduced.to_excel(writer, sheet_name=\"agg data\")\n",
    "# money_in.to_excel(writer, sheet_name=\"income\")\n",
    "# money_out.to_excel(writer, sheet_name=\"expense\")\n",
    "writer.close()"
   ]
  },
  {
   "cell_type": "code",
   "execution_count": 66,
   "id": "b8eef1f0",
   "metadata": {},
   "outputs": [],
   "source": [
    "# agg_df.info()"
   ]
  },
  {
   "cell_type": "code",
   "execution_count": null,
   "id": "17a2ca7a",
   "metadata": {},
   "outputs": [],
   "source": []
  }
 ],
 "metadata": {
  "kernelspec": {
   "display_name": "Python 3 (ipykernel)",
   "language": "python",
   "name": "python3"
  },
  "language_info": {
   "codemirror_mode": {
    "name": "ipython",
    "version": 3
   },
   "file_extension": ".py",
   "mimetype": "text/x-python",
   "name": "python",
   "nbconvert_exporter": "python",
   "pygments_lexer": "ipython3",
   "version": "3.9.13"
  }
 },
 "nbformat": 4,
 "nbformat_minor": 5
}
