{
 "cells": [
  {
   "cell_type": "code",
   "execution_count": 1,
   "id": "2ab5d734",
   "metadata": {},
   "outputs": [],
   "source": [
    "import pandas as pd\n",
    "import openpyxl as exc\n",
    "from openpyxl import workbook as wb\n",
    "from openpyxl import load_workbook\n",
    "import xlrd\n",
    "import pyexcel as p\n",
    "import os\n",
    "from io import StringIO\n",
    "import glob"
   ]
  },
  {
   "cell_type": "code",
   "execution_count": 2,
   "id": "7a4b4771",
   "metadata": {},
   "outputs": [],
   "source": [
    "def job_date(df):\n",
    "    job = str(df.columns[0]).split(' ', 1)[1]\n",
    "    edit_date = pd.to_datetime(str(df.iloc[0,0]).split(' ')[0], errors='coerce')\n",
    "#     attendance = str(df.iloc[0,0]).split(' ',1)[1]\n",
    "    return job, edit_date\n",
    "\n"
   ]
  },
  {
   "cell_type": "code",
   "execution_count": 3,
   "id": "3fbafa9a",
   "metadata": {},
   "outputs": [],
   "source": [
    "completed_path = r\"C:\\Users\\willd\\OneDrive\\Desktop\\Belair\\projection_analysis\\completed proj projections\"\n",
    "c_recents = r\"C:\\Users\\willd\\OneDrive\\Desktop\\Belair\\projection_analysis\\c_recent\\compiled_data.xlsx\"\n",
    "on_going_path = ''"
   ]
  },
  {
   "cell_type": "code",
   "execution_count": 4,
   "id": "a414ee05",
   "metadata": {},
   "outputs": [],
   "source": [
    "files = []\n",
    "for item in os.listdir(completed_path):\n",
    "    job_code = item.split(' ')[1]\n",
    "    files.append(job_code)\n",
    "files= pd.unique(files)\n",
    "    \n",
    "#     full_path = os.path.join(completed_path, item)"
   ]
  },
  {
   "cell_type": "code",
   "execution_count": 5,
   "id": "2234985a",
   "metadata": {},
   "outputs": [],
   "source": [
    "latest_file_list = []\n",
    "for file in files:\n",
    "    job_files = [os.path.join(completed_path, x) for x in os.listdir(completed_path) if file in x]\n",
    "    latest_file = max(job_files, key=os.path.getctime)\n",
    "    latest_file_list.append(latest_file)\n",
    "latest_file_list = pd.unique(latest_file_list)   "
   ]
  },
  {
   "cell_type": "code",
   "execution_count": 6,
   "id": "2829b79f",
   "metadata": {},
   "outputs": [],
   "source": [
    "df_list = []\n",
    "for item in latest_file_list:\n",
    "    num_sheet = len(pd.ExcelFile(item).sheet_names)\n",
    "    for sheet in range(0,num_sheet):\n",
    "        xl = pd.read_excel(item ,sheet_name=sheet)\n",
    "        df = pd.DataFrame(xl)\n",
    "        job, date = job_date(df)\n",
    "        df.columns = df.iloc[2]\n",
    "        df = df.drop(df.index[:3])\n",
    "        df = df.iloc[:, :27]\n",
    "        df['updated'] = date\n",
    "        df['job'] = job\n",
    "#         df['attend'] = atend\n",
    "        df['HJ Qty Comp'] = df['HJ Qty Comp'].fillna(0)\n",
    "        df = df.dropna(subset=['Qty'])\n",
    "        df = df.reset_index(drop=True)\n",
    "#         df = df.loc[:,~df.columns.duplicated()].copy()\n",
    "#         df = df.drop(df.columns[[26,27,28,29]], axis=1)\n",
    "#         print(job)\n",
    "#         print(job)\n",
    "        #         print(date)\n",
    "#         df = df.reset_index()\n",
    "        df_list.append(df)\n",
    "# full_df = pd.concat(df_list).drop_duplicates().reset_index(drop=True)\n",
    "        #         print(df.head(3))"
   ]
  },
  {
   "cell_type": "code",
   "execution_count": 30,
   "id": "1d4f5db9",
   "metadata": {},
   "outputs": [],
   "source": [
    "full_df = pd.concat(df_list).drop_duplicates().reset_index(drop=True)"
   ]
  },
  {
   "cell_type": "code",
   "execution_count": 42,
   "id": "cada2f42",
   "metadata": {},
   "outputs": [],
   "source": [
    "full_df = pd.concat(df_list).drop_duplicates().reset_index(drop=True)\n",
    "full_df['Ph Int'] = full_df['Phase Code'].astype(str).str[0]\n",
    "full_df = full_df[~full_df['updated'].isnull()]\n",
    "full_df['year'] = pd.DatetimeIndex(full_df['updated']).year\n",
    "# full_df['est fix'] = ()\n",
    "# full_df['Est unit $'] = full_df['Total Budget'] / full_df['Qty']\n",
    "# full_df['Act unit $'] = full_df['Actual Cost$'] / full_df['HJ Qty Comp']\n",
    "full_df = full_df.sort_values(by='updated', ascending=False)\n",
    "# full_df['Phase Code'] = full_df['Phase Code'].astype(str)\n",
    "# full_df['dup_code'] = df.apply(lambda x:'%s_%s_%s' % (x['Phase Code'],x['Description'],x['job']),axis=1)"
   ]
  },
  {
   "cell_type": "code",
   "execution_count": 43,
   "id": "84f0ab95",
   "metadata": {},
   "outputs": [],
   "source": [
    "full_df = full_df[~full_df['updated'].isnull()]\n",
    "no_dup = full_df.drop_duplicates(subset=['Phase Code','Description','job'], keep='first')"
   ]
  },
  {
   "cell_type": "code",
   "execution_count": 57,
   "id": "d055e627",
   "metadata": {},
   "outputs": [
    {
     "name": "stdout",
     "output_type": "stream",
     "text": [
      "<class 'pandas.core.frame.DataFrame'>\n",
      "Int64Index: 2619 entries, 3800 to 754\n",
      "Data columns (total 31 columns):\n",
      " #   Column                  Non-Null Count  Dtype         \n",
      "---  ------                  --------------  -----         \n",
      " 0   Phase Code              2619 non-null   object        \n",
      " 1   Description             2618 non-null   object        \n",
      " 2   Notes                   0 non-null      object        \n",
      " 3   Qty                     2619 non-null   float64       \n",
      " 4   HJ Qty Comp             2619 non-null   float64       \n",
      " 5   Unit                    2619 non-null   object        \n",
      " 6   % Comp                  2116 non-null   object        \n",
      " 7   nan                     0 non-null      float64       \n",
      " 8   Budget Last Projection  2618 non-null   object        \n",
      " 9   New Budgets             156 non-null    object        \n",
      " 10  Total Budget            2619 non-null   object        \n",
      " 11  Actual Cost$            2619 non-null   object        \n",
      " 12  Cmtd Cost$              261 non-null    object        \n",
      " 13  Act+ Cmtd Cost$         2619 non-null   object        \n",
      " 14  Projected Budget        2596 non-null   object        \n",
      " 15  Budget Remaining        2596 non-null   object        \n",
      " 16  Over/ (Under) Budget    2596 non-null   object        \n",
      " 17  nan                     0 non-null      float64       \n",
      " 18  Lab                     17 non-null     object        \n",
      " 19  Eq                      9 non-null      object        \n",
      " 20  Mtl Comm Costs          35 non-null     object        \n",
      " 21  Reclass                 0 non-null      object        \n",
      " 22  Total New Costs         2619 non-null   object        \n",
      " 23  nan                     0 non-null      float64       \n",
      " 24  VP + HJ Cost to Date    2619 non-null   object        \n",
      " 25  nan                     0 non-null      float64       \n",
      " 26  New Projected Budget    2619 non-null   object        \n",
      " 27  updated                 2619 non-null   datetime64[ns]\n",
      " 28  job                     2619 non-null   object        \n",
      " 29  Ph Int                  2619 non-null   object        \n",
      " 30  year                    2619 non-null   int64         \n",
      "dtypes: datetime64[ns](1), float64(6), int64(1), object(23)\n",
      "memory usage: 654.8+ KB\n"
     ]
    }
   ],
   "source": [
    "no_dup.info()"
   ]
  },
  {
   "cell_type": "code",
   "execution_count": 58,
   "id": "c922890b",
   "metadata": {},
   "outputs": [
    {
     "name": "stderr",
     "output_type": "stream",
     "text": [
      "C:\\Users\\willd\\AppData\\Local\\Temp\\ipykernel_16408\\1252987309.py:1: SettingWithCopyWarning: \n",
      "A value is trying to be set on a copy of a slice from a DataFrame.\n",
      "Try using .loc[row_indexer,col_indexer] = value instead\n",
      "\n",
      "See the caveats in the documentation: https://pandas.pydata.org/pandas-docs/stable/user_guide/indexing.html#returning-a-view-versus-a-copy\n",
      "  no_dup['Qty'] = no_dup['Qty'].astype(float)\n",
      "C:\\Users\\willd\\AppData\\Local\\Temp\\ipykernel_16408\\1252987309.py:2: SettingWithCopyWarning: \n",
      "A value is trying to be set on a copy of a slice from a DataFrame.\n",
      "Try using .loc[row_indexer,col_indexer] = value instead\n",
      "\n",
      "See the caveats in the documentation: https://pandas.pydata.org/pandas-docs/stable/user_guide/indexing.html#returning-a-view-versus-a-copy\n",
      "  no_dup['Actual Cost$'] = no_dup['Actual Cost$'].astype(float)\n",
      "C:\\Users\\willd\\AppData\\Local\\Temp\\ipykernel_16408\\1252987309.py:3: SettingWithCopyWarning: \n",
      "A value is trying to be set on a copy of a slice from a DataFrame.\n",
      "Try using .loc[row_indexer,col_indexer] = value instead\n",
      "\n",
      "See the caveats in the documentation: https://pandas.pydata.org/pandas-docs/stable/user_guide/indexing.html#returning-a-view-versus-a-copy\n",
      "  no_dup['Total Budget'] = no_dup['Total Budget'].astype(float)\n"
     ]
    }
   ],
   "source": [
    "no_dup['Qty'] = no_dup['Qty'].astype(float)\n",
    "no_dup['Actual Cost$'] = no_dup['Actual Cost$'].astype(float)\n",
    "no_dup['Total Budget'] = no_dup['Total Budget'].astype(float)"
   ]
  },
  {
   "cell_type": "code",
   "execution_count": 59,
   "id": "8ece2527",
   "metadata": {},
   "outputs": [],
   "source": [
    "most_recent = no_dup.sort_values(by=['job', 'Phase Code'])\n",
    "most_recent = most_recent[~most_recent[['Qty','HJ Qty Comp']].eq(0).sum(1).ge(2)]\n",
    "# df.drop_duplicates(subset=['IDName'], keep='last')\n"
   ]
  },
  {
   "cell_type": "code",
   "execution_count": 60,
   "id": "9631136e",
   "metadata": {},
   "outputs": [],
   "source": [
    "v = most_recent.Description.value_counts()\n",
    "agg_df = most_recent[most_recent.Description.isin(v.index[v.gt(3)])]"
   ]
  },
  {
   "cell_type": "code",
   "execution_count": null,
   "id": "d450ef2c",
   "metadata": {},
   "outputs": [],
   "source": []
  },
  {
   "cell_type": "code",
   "execution_count": 61,
   "id": "1e55df74",
   "metadata": {},
   "outputs": [],
   "source": [
    "writer = pd.ExcelWriter(c_recents, engine=\"xlsxwriter\")\n",
    "most_recent.to_excel(writer, sheet_name=\"mk1\")\n",
    "agg_df.to_excel(writer, sheet_name=\"agg data\")\n",
    "# money_in.to_excel(writer, sheet_name=\"income\")\n",
    "# money_out.to_excel(writer, sheet_name=\"expense\")\n",
    "writer.close()"
   ]
  },
  {
   "cell_type": "code",
   "execution_count": 40,
   "id": "491a7347",
   "metadata": {},
   "outputs": [],
   "source": [
    "df_list = []\n",
    "for item in os.listdir(completed_path):\n",
    "    full_path = os.path.join(completed_path, item)\n",
    "    num_sheet = len(pd.ExcelFile(full_path).sheet_names)\n",
    "    for sheet in range(0,num_sheet):\n",
    "        \n",
    "        xl = pd.read_excel(full_path ,sheet_name=sheet)\n",
    "        df = pd.DataFrame(xl)\n",
    "        df.columns.values[0] = \"1\"\n",
    "#         df['1'] = df['1'].fillna(False)\n",
    "        pc_list = df.index[df['1'].str.contains('Phase Code', na= False)].tolist()\n",
    "        if len(pc_list) > 0:\n",
    "            pc_ind = pc_list[0]\n",
    "#         if 'Phase Code' in df.iloc[:,0]:   \n",
    "#             job, date = job_date(df)\n",
    "#             df.columns = df.iloc[pc_ind]\n",
    "#             df = df.drop(df.index[:3])\n",
    "#             df['updated'] = date\n",
    "#             df['job'] = job\n",
    "#             # remove non numeric values in this column\n",
    "#             df = df[df['Phase Code'].apply(lambda x: str(x).isnumeric())]\n",
    "#             df['HJ Qty Comp'] = df['HJ Qty Comp'].fillna(0)\n",
    "            df_list.append(df)\n",
    "full_df = pd.concat(df_list)    \n",
    "\n"
   ]
  },
  {
   "cell_type": "code",
   "execution_count": 62,
   "id": "b8eef1f0",
   "metadata": {},
   "outputs": [
    {
     "name": "stdout",
     "output_type": "stream",
     "text": [
      "<class 'pandas.core.frame.DataFrame'>\n",
      "Int64Index: 917 entries, 0 to 3796\n",
      "Data columns (total 31 columns):\n",
      " #   Column                  Non-Null Count  Dtype         \n",
      "---  ------                  --------------  -----         \n",
      " 0   Phase Code              917 non-null    object        \n",
      " 1   Description             917 non-null    object        \n",
      " 2   Notes                   0 non-null      object        \n",
      " 3   Qty                     917 non-null    float64       \n",
      " 4   HJ Qty Comp             917 non-null    float64       \n",
      " 5   Unit                    917 non-null    object        \n",
      " 6   % Comp                  913 non-null    object        \n",
      " 7   nan                     0 non-null      float64       \n",
      " 8   Budget Last Projection  916 non-null    object        \n",
      " 9   New Budgets             58 non-null     object        \n",
      " 10  Total Budget            917 non-null    float64       \n",
      " 11  Actual Cost$            917 non-null    float64       \n",
      " 12  Cmtd Cost$              44 non-null     object        \n",
      " 13  Act+ Cmtd Cost$         917 non-null    object        \n",
      " 14  Projected Budget        908 non-null    object        \n",
      " 15  Budget Remaining        908 non-null    object        \n",
      " 16  Over/ (Under) Budget    908 non-null    object        \n",
      " 17  nan                     0 non-null      float64       \n",
      " 18  Lab                     11 non-null     object        \n",
      " 19  Eq                      5 non-null      object        \n",
      " 20  Mtl Comm Costs          21 non-null     object        \n",
      " 21  Reclass                 0 non-null      object        \n",
      " 22  Total New Costs         917 non-null    object        \n",
      " 23  nan                     0 non-null      float64       \n",
      " 24  VP + HJ Cost to Date    917 non-null    object        \n",
      " 25  nan                     0 non-null      float64       \n",
      " 26  New Projected Budget    917 non-null    object        \n",
      " 27  updated                 917 non-null    datetime64[ns]\n",
      " 28  job                     917 non-null    object        \n",
      " 29  Ph Int                  917 non-null    object        \n",
      " 30  year                    917 non-null    int64         \n",
      "dtypes: datetime64[ns](1), float64(8), int64(1), object(21)\n",
      "memory usage: 229.2+ KB\n"
     ]
    }
   ],
   "source": [
    "agg_df.info()"
   ]
  },
  {
   "cell_type": "code",
   "execution_count": null,
   "id": "17a2ca7a",
   "metadata": {},
   "outputs": [],
   "source": []
  }
 ],
 "metadata": {
  "kernelspec": {
   "display_name": "Python 3 (ipykernel)",
   "language": "python",
   "name": "python3"
  },
  "language_info": {
   "codemirror_mode": {
    "name": "ipython",
    "version": 3
   },
   "file_extension": ".py",
   "mimetype": "text/x-python",
   "name": "python",
   "nbconvert_exporter": "python",
   "pygments_lexer": "ipython3",
   "version": "3.9.13"
  }
 },
 "nbformat": 4,
 "nbformat_minor": 5
}
