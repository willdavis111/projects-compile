{
 "cells": [
  {
   "cell_type": "code",
   "execution_count": 1,
   "id": "2ab5d734",
   "metadata": {},
   "outputs": [],
   "source": [
    "import pandas as pd\n",
    "import openpyxl as exc\n",
    "from openpyxl import workbook as wb\n",
    "from openpyxl import load_workbook\n",
    "import xlrd\n",
    "import pyexcel as p\n",
    "import os\n",
    "from io import StringIO\n",
    "import glob"
   ]
  },
  {
   "cell_type": "code",
   "execution_count": 2,
   "id": "7a4b4771",
   "metadata": {},
   "outputs": [],
   "source": [
    "def job_date(df):\n",
    "    job = str(df.columns[0]).split(' ', 1)[1]\n",
    "    edit_date = pd.to_datetime(str(df.iloc[0,0]).split(' ')[0], errors='coerce')\n",
    "#     attendance = str(df.iloc[0,0]).split(' ',1)[1]\n",
    "    return job, edit_date\n",
    "\n"
   ]
  },
  {
   "cell_type": "code",
   "execution_count": 3,
   "id": "3fbafa9a",
   "metadata": {},
   "outputs": [],
   "source": [
    "completed_path = r\"C:\\Users\\willd\\OneDrive\\Desktop\\Belair\\projection_analysis\\completed proj projections\"\n",
    "c_recents = r\"C:\\Users\\willd\\OneDrive\\Desktop\\Belair\\projection_analysis\\c_recent\\compiled_data.xlsx\"\n",
    "on_going_path = ''"
   ]
  },
  {
   "cell_type": "code",
   "execution_count": 4,
   "id": "a414ee05",
   "metadata": {},
   "outputs": [],
   "source": [
    "files = []\n",
    "for item in os.listdir(completed_path):\n",
    "    job_code = item.split(' ')[1]\n",
    "    files.append(job_code)\n",
    "files= pd.unique(files)\n",
    "    \n",
    "#     full_path = os.path.join(completed_path, item)"
   ]
  },
  {
   "cell_type": "code",
   "execution_count": 5,
   "id": "2234985a",
   "metadata": {},
   "outputs": [],
   "source": [
    "latest_file_list = []\n",
    "for file in files:\n",
    "    job_files = [os.path.join(completed_path, x) for x in os.listdir(completed_path) if file in x]\n",
    "    latest_file = max(job_files, key=os.path.getctime)\n",
    "    latest_file_list.append(latest_file)\n",
    "latest_file_list = pd.unique(latest_file_list)   "
   ]
  },
  {
   "cell_type": "code",
   "execution_count": 6,
   "id": "2829b79f",
   "metadata": {},
   "outputs": [],
   "source": [
    "df_list = []\n",
    "for item in latest_file_list:\n",
    "    num_sheet = len(pd.ExcelFile(item).sheet_names)\n",
    "    for sheet in range(0,num_sheet):\n",
    "        xl = pd.read_excel(item ,sheet_name=sheet)\n",
    "        df = pd.DataFrame(xl)\n",
    "        job, date = job_date(df)\n",
    "        df.columns = df.iloc[2]\n",
    "        df = df.drop(df.index[:3])\n",
    "        df = df.iloc[:, :27]\n",
    "        df['updated'] = date\n",
    "        df['job'] = job\n",
    "        df['HJ Qty Comp'] = df['HJ Qty Comp'].fillna(0)\n",
    "        df = df.dropna(subset=['Qty'])\n",
    "        df = df.reset_index(drop=True)\n",
    "        df_list.append(df)"
   ]
  },
  {
   "cell_type": "code",
   "execution_count": 7,
   "id": "cada2f42",
   "metadata": {},
   "outputs": [],
   "source": [
    "full_df = pd.concat(df_list).drop_duplicates().reset_index(drop=True)\n",
    "full_df['Ph Int'] = full_df['Phase Code'].astype(str).str[0]\n",
    "full_df = full_df[~full_df['updated'].isnull()]\n",
    "full_df['year'] = pd.DatetimeIndex(full_df['updated']).year\n",
    "full_df['month'] = pd.DatetimeIndex(full_df['updated']).month\n",
    "# full_df['Est unit $'] = full_df['Total Budget'] / full_df['Qty']\n",
    "# full_df['Act unit $'] = full_df['Actual Cost$'] / full_df['HJ Qty Comp']\n",
    "full_df = full_df.sort_values(by='updated', ascending=False)"
   ]
  },
  {
   "cell_type": "code",
   "execution_count": 8,
   "id": "84f0ab95",
   "metadata": {},
   "outputs": [
    {
     "name": "stderr",
     "output_type": "stream",
     "text": [
      "C:\\Users\\willd\\AppData\\Local\\Temp\\ipykernel_11036\\4133393061.py:3: SettingWithCopyWarning: \n",
      "A value is trying to be set on a copy of a slice from a DataFrame.\n",
      "Try using .loc[row_indexer,col_indexer] = value instead\n",
      "\n",
      "See the caveats in the documentation: https://pandas.pydata.org/pandas-docs/stable/user_guide/indexing.html#returning-a-view-versus-a-copy\n",
      "  no_dup['Qty'] = no_dup['Qty'].astype(float)\n",
      "C:\\Users\\willd\\AppData\\Local\\Temp\\ipykernel_11036\\4133393061.py:4: SettingWithCopyWarning: \n",
      "A value is trying to be set on a copy of a slice from a DataFrame.\n",
      "Try using .loc[row_indexer,col_indexer] = value instead\n",
      "\n",
      "See the caveats in the documentation: https://pandas.pydata.org/pandas-docs/stable/user_guide/indexing.html#returning-a-view-versus-a-copy\n",
      "  no_dup['Actual Cost$'] = no_dup['Actual Cost$'].astype(float)\n",
      "C:\\Users\\willd\\AppData\\Local\\Temp\\ipykernel_11036\\4133393061.py:5: SettingWithCopyWarning: \n",
      "A value is trying to be set on a copy of a slice from a DataFrame.\n",
      "Try using .loc[row_indexer,col_indexer] = value instead\n",
      "\n",
      "See the caveats in the documentation: https://pandas.pydata.org/pandas-docs/stable/user_guide/indexing.html#returning-a-view-versus-a-copy\n",
      "  no_dup['Total Budget'] = no_dup['Total Budget'].astype(float)\n"
     ]
    }
   ],
   "source": [
    "full_df = full_df[~full_df['updated'].isnull()]\n",
    "no_dup = full_df.drop_duplicates(subset=['Phase Code','Description','job'], keep='first')\n",
    "no_dup['Qty'] = no_dup['Qty'].astype(float)\n",
    "no_dup['Actual Cost$'] = no_dup['Actual Cost$'].astype(float)\n",
    "no_dup['Total Budget'] = no_dup['Total Budget'].astype(float)"
   ]
  },
  {
   "cell_type": "code",
   "execution_count": 9,
   "id": "8ece2527",
   "metadata": {},
   "outputs": [],
   "source": [
    "most_recent = no_dup.sort_values(by=['job', 'Phase Code'])\n",
    "most_recent = most_recent[~most_recent[['Qty','HJ Qty Comp']].eq(0).sum(1).ge(2)]\n",
    "# df.drop_duplicates(subset=['IDName'], keep='last')\n"
   ]
  },
  {
   "cell_type": "code",
   "execution_count": 10,
   "id": "b86ba240",
   "metadata": {},
   "outputs": [],
   "source": [
    "# subset of just earthwork\n",
    "earth_work = most_recent[most_recent['Ph Int'] == '3']"
   ]
  },
  {
   "cell_type": "code",
   "execution_count": 19,
   "id": "41ea82f0",
   "metadata": {},
   "outputs": [],
   "source": [
    "crew_dict = {\"Scarify\":[\"Scarify\"], \"Strip Site\":[\"Strip Site\"], \n",
    "             \"Soil Correction\":[\"Soil Correction\", \"OX\",\"OE\", \"Over Ex\", \"Excavate & Re-compact\", \"Over-Ex\", \"Excavate & Recompact\"],\n",
    "             \"Ex Retainining Wall\":[\"Excavate Site Retaining\", \"Excavate MSE\", \"Exc Retaining\", \"Exc Site Retn Walls\"],\n",
    "             \"Export\":[\"Export\", \"Exp\"], \"Import\":[\"Import\", \"Imp\"],\n",
    "             \"Ex Frost footing\": [\"Exc Fro\", \"Excavate Fro\", \"Footing Excavation\"], \n",
    "             \"Ex Trash Enc\":[\"Excavate Trash\", \"Exc Trash\"],\n",
    "             \"Cut to Fill\":[\"Cut To Fill\", \"Utility Spoils - Site Fill\", \"Building Pad Fill w/ Spoils\"],\n",
    "             \"Cut to Stockpile\":[\"Cut to Stockpile\", \"Load & Stockpile\"],\n",
    "             \"Handle spoils\":[\"Handle Utility Spoils\", \"Handle Foundation Spoils\", \"Handle Spoils\", \"Handle & Stockpile\"],\n",
    "             \"Double Handle\":[\"Double Handle\"], \"Cut in C&G\":[\"Cut In C\", \"Cut-in C\", \"Grade C&G\"],\n",
    "             \"Ex Elevator\":[\"Excavate Elevator\"],\n",
    "             \"Grade Landscape\":[\"grade Landscape\", \"grade Green\", \"Landscape\"],\n",
    "             \"Grade Parkinglots and Roads\":[\"Grade Boulevards\",\"Grade Asphalt\", \"Grade Parking\", \"Grade Pkg\", \"Grade Main Roads\"],\n",
    "             \"Grade SW\":[\"Grade Sidewalks\", \"Grade Walks\", \"Exterior Slabs\", \"grade Brick Pavers\", \"Grade SW\"],\n",
    "             \"Export\":[\"Export\"],\n",
    "             \"Grade BLDG\": [\"Grade Bldg\", \"Grade Building\", \"Grade Structural\"],\n",
    "             \"Drain Tile\":[\"Drain\"],\n",
    "             \"Backfill Int\":[\"Backfill Int\", \"Footing Backfill\"],\n",
    "             \"Backfill Ext\":[\"Backfill Ext\"],\n",
    "             \"Backfill Elevator\":[\"Backfill Elevator\"],\n",
    "             \"Backfill Trash\":[\"Backfill Trash\"], \"Backfill Frost\": [\"Backfill Frost\"],\n",
    "             \"High Backfill\": [\"High Backfill\"], \"Grade Class X\":[\"Grade Class\"],\n",
    "             \"Excavate Interior\":[\"Excavate Int\", \"Excavate Thickened\", \"Excavate Grade Beams\", \"Exc Int\"],\n",
    "             \"Excavate Exterior\":[\"Excavate Ext\", \"Exc Ext\"], \"Grade Pond\":[\"Basin Grading\",\"Grade Pond\" , \"Grade Detention Pond\"],\n",
    "             \"Assist shoring\":[\"Assist Shoring\"],\n",
    "             \"Stairs\":[\"Stairs\"], \"Place Strippings\":[\"Place Stripping\"],\n",
    "             \"Street Sweep\":[\"Street Sweeping\"]}"
   ]
  },
  {
   "cell_type": "code",
   "execution_count": 20,
   "id": "fdfe0460",
   "metadata": {},
   "outputs": [
    {
     "name": "stderr",
     "output_type": "stream",
     "text": [
      "C:\\Users\\willd\\AppData\\Local\\Temp\\ipykernel_11036\\2156627274.py:2: SettingWithCopyWarning: \n",
      "A value is trying to be set on a copy of a slice from a DataFrame.\n",
      "Try using .loc[row_indexer,col_indexer] = value instead\n",
      "\n",
      "See the caveats in the documentation: https://pandas.pydata.org/pandas-docs/stable/user_guide/indexing.html#returning-a-view-versus-a-copy\n",
      "  test['crew'] = 'misc.'\n"
     ]
    }
   ],
   "source": [
    "test = earth_work\n",
    "test['crew'] = 'misc.'"
   ]
  },
  {
   "cell_type": "code",
   "execution_count": 21,
   "id": "946e584d",
   "metadata": {},
   "outputs": [],
   "source": [
    "for key, values in crew_dict.items():\n",
    "    test.loc[test['Description'].str.lower().str.contains('|'.join([x.lower() for x in values])), \"crew\"] = key"
   ]
  },
  {
   "cell_type": "code",
   "execution_count": 22,
   "id": "c518b951",
   "metadata": {},
   "outputs": [],
   "source": [
    "reduced = test.loc[:, test.columns.notna()]\n",
    "reduced = reduced.drop(['Notes','Lab','Eq', 'Reclass'], axis=1)"
   ]
  },
  {
   "cell_type": "code",
   "execution_count": 60,
   "id": "9631136e",
   "metadata": {},
   "outputs": [],
   "source": [
    "v = most_recent.Description.value_counts()\n",
    "agg_df = most_recent[most_recent.Description.isin(v.index[v.gt(3)])]"
   ]
  },
  {
   "cell_type": "code",
   "execution_count": 24,
   "id": "1e55df74",
   "metadata": {},
   "outputs": [],
   "source": [
    "writer = pd.ExcelWriter(c_recents, engine=\"xlsxwriter\")\n",
    "most_recent.to_excel(writer, sheet_name=\"mk1\")\n",
    "reduced.to_excel(writer, sheet_name=\"agg data\")\n",
    "# money_in.to_excel(writer, sheet_name=\"income\")\n",
    "# money_out.to_excel(writer, sheet_name=\"expense\")\n",
    "writer.close()"
   ]
  },
  {
   "cell_type": "code",
   "execution_count": 62,
   "id": "b8eef1f0",
   "metadata": {},
   "outputs": [
    {
     "name": "stdout",
     "output_type": "stream",
     "text": [
      "<class 'pandas.core.frame.DataFrame'>\n",
      "Int64Index: 917 entries, 0 to 3796\n",
      "Data columns (total 31 columns):\n",
      " #   Column                  Non-Null Count  Dtype         \n",
      "---  ------                  --------------  -----         \n",
      " 0   Phase Code              917 non-null    object        \n",
      " 1   Description             917 non-null    object        \n",
      " 2   Notes                   0 non-null      object        \n",
      " 3   Qty                     917 non-null    float64       \n",
      " 4   HJ Qty Comp             917 non-null    float64       \n",
      " 5   Unit                    917 non-null    object        \n",
      " 6   % Comp                  913 non-null    object        \n",
      " 7   nan                     0 non-null      float64       \n",
      " 8   Budget Last Projection  916 non-null    object        \n",
      " 9   New Budgets             58 non-null     object        \n",
      " 10  Total Budget            917 non-null    float64       \n",
      " 11  Actual Cost$            917 non-null    float64       \n",
      " 12  Cmtd Cost$              44 non-null     object        \n",
      " 13  Act+ Cmtd Cost$         917 non-null    object        \n",
      " 14  Projected Budget        908 non-null    object        \n",
      " 15  Budget Remaining        908 non-null    object        \n",
      " 16  Over/ (Under) Budget    908 non-null    object        \n",
      " 17  nan                     0 non-null      float64       \n",
      " 18  Lab                     11 non-null     object        \n",
      " 19  Eq                      5 non-null      object        \n",
      " 20  Mtl Comm Costs          21 non-null     object        \n",
      " 21  Reclass                 0 non-null      object        \n",
      " 22  Total New Costs         917 non-null    object        \n",
      " 23  nan                     0 non-null      float64       \n",
      " 24  VP + HJ Cost to Date    917 non-null    object        \n",
      " 25  nan                     0 non-null      float64       \n",
      " 26  New Projected Budget    917 non-null    object        \n",
      " 27  updated                 917 non-null    datetime64[ns]\n",
      " 28  job                     917 non-null    object        \n",
      " 29  Ph Int                  917 non-null    object        \n",
      " 30  year                    917 non-null    int64         \n",
      "dtypes: datetime64[ns](1), float64(8), int64(1), object(21)\n",
      "memory usage: 229.2+ KB\n"
     ]
    }
   ],
   "source": [
    "agg_df.info()"
   ]
  },
  {
   "cell_type": "code",
   "execution_count": null,
   "id": "17a2ca7a",
   "metadata": {},
   "outputs": [],
   "source": []
  }
 ],
 "metadata": {
  "kernelspec": {
   "display_name": "Python 3 (ipykernel)",
   "language": "python",
   "name": "python3"
  },
  "language_info": {
   "codemirror_mode": {
    "name": "ipython",
    "version": 3
   },
   "file_extension": ".py",
   "mimetype": "text/x-python",
   "name": "python",
   "nbconvert_exporter": "python",
   "pygments_lexer": "ipython3",
   "version": "3.9.13"
  }
 },
 "nbformat": 4,
 "nbformat_minor": 5
}
