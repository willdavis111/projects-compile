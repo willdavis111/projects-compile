{
 "cells": [
  {
   "cell_type": "code",
   "execution_count": 1,
   "id": "2ab5d734",
   "metadata": {},
   "outputs": [],
   "source": [
    "import pandas as pd\n",
    "import openpyxl as exc\n",
    "from openpyxl import workbook as wb\n",
    "from openpyxl import load_workbook\n",
    "import xlrd\n",
    "import pyexcel as p\n",
    "import os\n",
    "from io import StringIO\n",
    "import glob"
   ]
  },
  {
   "cell_type": "code",
   "execution_count": 47,
   "id": "7a4b4771",
   "metadata": {},
   "outputs": [],
   "source": [
    "def job_date(df):\n",
    "    job = str(df.columns[0]).split(' ', 1)[1]\n",
    "    edit_date = pd.to_datetime(str(df.iloc[0,0]).split(' ')[0], errors='coerce')\n",
    "#     attendance = str(df.iloc[0,0]).split(' ',1)[1]\n",
    "    return job, edit_date\n",
    "\n"
   ]
  },
  {
   "cell_type": "code",
   "execution_count": 60,
   "id": "3fbafa9a",
   "metadata": {},
   "outputs": [],
   "source": [
    "completed_path = r\"C:\\Users\\willd\\OneDrive\\Desktop\\Belair\\projection_analysis\\completed proj projections\"\n",
    "c_recents = r\"C:\\Users\\willd\\OneDrive\\Desktop\\Belair\\projection_analysis\\c_recent\\compiled_data.xlsx\"\n",
    "on_going_path = ''"
   ]
  },
  {
   "cell_type": "code",
   "execution_count": 5,
   "id": "a414ee05",
   "metadata": {},
   "outputs": [],
   "source": [
    "files = []\n",
    "for item in os.listdir(completed_path):\n",
    "    job_code = item.split(' ')[1]\n",
    "    files.append(job_code)\n",
    "files= pd.unique(files)\n",
    "    \n",
    "#     full_path = os.path.join(completed_path, item)"
   ]
  },
  {
   "cell_type": "code",
   "execution_count": 7,
   "id": "2234985a",
   "metadata": {},
   "outputs": [],
   "source": [
    "latest_file_list = []\n",
    "for file in files:\n",
    "    job_files = [os.path.join(completed_path, x) for x in os.listdir(completed_path) if file in x]\n",
    "    latest_file = max(job_files, key=os.path.getctime)\n",
    "    latest_file_list.append(latest_file)\n",
    "latest_file_list = pd.unique(latest_file_list)   "
   ]
  },
  {
   "cell_type": "code",
   "execution_count": 49,
   "id": "2829b79f",
   "metadata": {},
   "outputs": [],
   "source": [
    "df_list = []\n",
    "for item in latest_file_list:\n",
    "    num_sheet = len(pd.ExcelFile(item).sheet_names)\n",
    "    for sheet in range(0,num_sheet):\n",
    "        xl = pd.read_excel(item ,sheet_name=sheet)\n",
    "        df = pd.DataFrame(xl)\n",
    "        job, date = job_date(df)\n",
    "        df.columns = df.iloc[2]\n",
    "        df = df.drop(df.index[:3])\n",
    "        df = df.iloc[:, :27]\n",
    "        df['updated'] = date\n",
    "        df['job'] = job\n",
    "#         df['attend'] = atend\n",
    "        df['HJ Qty Comp'] = df['HJ Qty Comp'].fillna(0)\n",
    "        df = df.dropna(subset=['Qty'])\n",
    "        df = df.reset_index(drop=True)\n",
    "#         df = df.loc[:,~df.columns.duplicated()].copy()\n",
    "#         df = df.drop(df.columns[[26,27,28,29]], axis=1)\n",
    "#         print(job)\n",
    "#         print(job)\n",
    "        #         print(date)\n",
    "#         df = df.reset_index()\n",
    "        df_list.append(df)\n",
    "# full_df = pd.concat(df_list).drop_duplicates().reset_index(drop=True)\n",
    "        #         print(df.head(3))"
   ]
  },
  {
   "cell_type": "code",
   "execution_count": 50,
   "id": "1d4f5db9",
   "metadata": {},
   "outputs": [],
   "source": [
    "full_df = pd.concat(df_list).drop_duplicates().reset_index(drop=True)"
   ]
  },
  {
   "cell_type": "code",
   "execution_count": 39,
   "id": "8092212c",
   "metadata": {
    "scrolled": true
   },
   "outputs": [
    {
     "name": "stdout",
     "output_type": "stream",
     "text": [
      "31 31\n"
     ]
    }
   ],
   "source": [
    "list1 = df_list[0].columns.to_series()\n",
    "list2 = pd.unique(list1)\n",
    "print(len(list1), len(list2))"
   ]
  },
  {
   "cell_type": "code",
   "execution_count": 66,
   "id": "8ece2527",
   "metadata": {},
   "outputs": [],
   "source": [
    "most_recent = full_df.sort_values(by=['job', 'Phase Code'])\n",
    "most_recent = most_recent[~most_recent[['Qty','HJ Qty Comp']].eq(0).sum(1).ge(2)]\n",
    "# df.drop_duplicates(subset=['IDName'], keep='last')\n"
   ]
  },
  {
   "cell_type": "code",
   "execution_count": 65,
   "id": "1e55df74",
   "metadata": {},
   "outputs": [],
   "source": [
    "writer = pd.ExcelWriter(c_recents, engine=\"xlsxwriter\")\n",
    "most_recent.to_excel(writer, sheet_name=\"mk1\")\n",
    "# monthly_ratio.to_excel(writer, sheet_name=\"all_mon\")\n",
    "# money_in.to_excel(writer, sheet_name=\"income\")\n",
    "# money_out.to_excel(writer, sheet_name=\"expense\")\n",
    "writer.close()"
   ]
  },
  {
   "cell_type": "code",
   "execution_count": 23,
   "id": "378ca3e4",
   "metadata": {},
   "outputs": [
    {
     "name": "stdout",
     "output_type": "stream",
     "text": [
      "['% Comp', 'Budget Remaining', 'Over/ (Under) Budget']\n"
     ]
    }
   ],
   "source": [
    "import collections\n",
    "print([item for item, count in collections.Counter(list1).items() if count > 1])"
   ]
  },
  {
   "cell_type": "code",
   "execution_count": 40,
   "id": "491a7347",
   "metadata": {},
   "outputs": [],
   "source": [
    "df_list = []\n",
    "for item in os.listdir(completed_path):\n",
    "    full_path = os.path.join(completed_path, item)\n",
    "    num_sheet = len(pd.ExcelFile(full_path).sheet_names)\n",
    "    for sheet in range(0,num_sheet):\n",
    "        \n",
    "        xl = pd.read_excel(full_path ,sheet_name=sheet)\n",
    "        df = pd.DataFrame(xl)\n",
    "        df.columns.values[0] = \"1\"\n",
    "#         df['1'] = df['1'].fillna(False)\n",
    "        pc_list = df.index[df['1'].str.contains('Phase Code', na= False)].tolist()\n",
    "        if len(pc_list) > 0:\n",
    "            pc_ind = pc_list[0]\n",
    "#         if 'Phase Code' in df.iloc[:,0]:   \n",
    "#             job, date = job_date(df)\n",
    "#             df.columns = df.iloc[pc_ind]\n",
    "#             df = df.drop(df.index[:3])\n",
    "#             df['updated'] = date\n",
    "#             df['job'] = job\n",
    "#             # remove non numeric values in this column\n",
    "#             df = df[df['Phase Code'].apply(lambda x: str(x).isnumeric())]\n",
    "#             df['HJ Qty Comp'] = df['HJ Qty Comp'].fillna(0)\n",
    "            df_list.append(df)\n",
    "full_df = pd.concat(df_list)    \n",
    "\n"
   ]
  }
 ],
 "metadata": {
  "kernelspec": {
   "display_name": "Python 3 (ipykernel)",
   "language": "python",
   "name": "python3"
  },
  "language_info": {
   "codemirror_mode": {
    "name": "ipython",
    "version": 3
   },
   "file_extension": ".py",
   "mimetype": "text/x-python",
   "name": "python",
   "nbconvert_exporter": "python",
   "pygments_lexer": "ipython3",
   "version": "3.9.13"
  }
 },
 "nbformat": 4,
 "nbformat_minor": 5
}
